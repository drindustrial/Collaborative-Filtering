{
 "cells": [
  {
   "cell_type": "code",
   "execution_count": 1,
   "metadata": {},
   "outputs": [],
   "source": [
    "DATA_PATH = \"D:/github/AML_DS_1/data/collaborative-filtering/\""
   ]
  },
  {
   "cell_type": "code",
   "execution_count": 2,
   "metadata": {},
   "outputs": [],
   "source": [
    "import pandas as pd\n",
    "import numpy as np"
   ]
  },
  {
   "cell_type": "code",
   "execution_count": 310,
   "metadata": {},
   "outputs": [],
   "source": [
    "test = pd.read_csv(DATA_PATH + 'test.csv')\n",
    "train = pd.read_csv(DATA_PATH + 'train.csv')"
   ]
  },
  {
   "cell_type": "code",
   "execution_count": 7,
   "metadata": {},
   "outputs": [],
   "source": [
    "ratings = train['rating'].values\n",
    "userIds = train['userId'].values\n",
    "itemIds = train['movieId'].values"
   ]
  },
  {
   "cell_type": "markdown",
   "metadata": {},
   "source": [
    "1. \n",
    "Implement a basic Collaborative Filtering model. Implement coordinate descend with the manual update of the parameters (use of tools that calculate gradients automatically is not allowed). Preferably use numpy and scipy.sparse. (50 points)"
   ]
  },
  {
   "cell_type": "code",
   "execution_count": 8,
   "metadata": {},
   "outputs": [],
   "source": [
    "from scipy.sparse import coo_matrix\n",
    "\n",
    "n_users = np.max(userIds) + 1\n",
    "n_items = np.max(itemIds) + 1\n",
    "\n",
    "R = coo_matrix((ratings, (userIds, itemIds)), shape=(n_users, n_items))"
   ]
  },
  {
   "cell_type": "code",
   "execution_count": 319,
   "metadata": {},
   "outputs": [
    {
     "name": "stdout",
     "output_type": "stream",
     "text": [
      "epoch 0: MSE = 2.475704440397803, lr = 159.68\n",
      "epoch 1: MSE = 1.9950555246905843, lr = 159.36064000000002\n",
      "epoch 2: MSE = 1.8442224802676357, lr = 159.04191872\n",
      "epoch 3: MSE = 1.7595724546028126, lr = 158.72383488256\n",
      "epoch 4: MSE = 1.7027402143219432, lr = 158.40638721279487\n",
      "epoch 5: MSE = 1.6612659968485277, lr = 158.08957443836928\n",
      "epoch 6: MSE = 1.6289896252283829, lr = 157.77339528949256\n",
      "epoch 7: MSE = 1.603070558439236, lr = 157.45784849891356\n",
      "epoch 8: MSE = 1.5814257759039845, lr = 157.14293280191575\n",
      "epoch 9: MSE = 1.5631063898598156, lr = 156.8286469363119\n",
      "epoch 10: MSE = 1.5471443504771238, lr = 156.51498964243928\n",
      "epoch 11: MSE = 1.5331799485246147, lr = 156.20195966315438\n",
      "epoch 12: MSE = 1.5206794770324605, lr = 155.88955574382808\n",
      "epoch 13: MSE = 1.5095087181452385, lr = 155.57777663234043\n",
      "epoch 14: MSE = 1.4993393487733457, lr = 155.26662107907575\n",
      "epoch 15: MSE = 1.4901298303935901, lr = 154.9560878369176\n",
      "epoch 16: MSE = 1.481660712275804, lr = 154.64617566124375\n",
      "epoch 17: MSE = 1.4739270961152902, lr = 154.33688330992126\n",
      "epoch 18: MSE = 1.4667720084434848, lr = 154.02820954330141\n",
      "epoch 19: MSE = 1.4602023057864881, lr = 153.72015312421482\n",
      "epoch 20: MSE = 1.454099681911597, lr = 153.4127128179664\n",
      "epoch 21: MSE = 1.448472175416203, lr = 153.10588739233046\n",
      "epoch 22: MSE = 1.4432275761191362, lr = 152.7996756175458\n",
      "epoch 23: MSE = 1.4383713977031918, lr = 152.4940762663107\n",
      "epoch 24: MSE = 1.4338306797455949, lr = 152.1890881137781\n",
      "epoch 25: MSE = 1.4296078397546457, lr = 151.88470993755055\n",
      "epoch 26: MSE = 1.425645126018214, lr = 151.58094051767546\n",
      "epoch 27: MSE = 1.4219424825014482, lr = 151.2777786366401\n",
      "epoch 28: MSE = 1.4184545981610102, lr = 150.97522307936683\n",
      "epoch 29: MSE = 1.4151798063446672, lr = 150.6732726332081\n",
      "epoch 30: MSE = 1.4120830144375738, lr = 150.37192608794166\n",
      "epoch 31: MSE = 1.4091616585180873, lr = 150.07118223576578\n",
      "epoch 32: MSE = 1.40638891182871, lr = 149.77103987129425\n",
      "epoch 33: MSE = 1.4037617857433347, lr = 149.47149779155166\n",
      "epoch 34: MSE = 1.4012599797469498, lr = 149.17255479596855\n",
      "epoch 35: MSE = 1.3988803515699844, lr = 148.87420968637662\n",
      "epoch 36: MSE = 1.3966076209196248, lr = 148.57646126700385\n",
      "epoch 37: MSE = 1.3944386344875825, lr = 148.27930834446985\n",
      "epoch 38: MSE = 1.3923618840971779, lr = 147.9827497277809\n",
      "epoch 39: MSE = 1.390374281236991, lr = 147.68678422832534\n",
      "epoch 40: MSE = 1.3884671006096652, lr = 147.39141065986868\n",
      "epoch 41: MSE = 1.3866373651848796, lr = 147.09662783854895\n",
      "epoch 42: MSE = 1.384878378865582, lr = 146.80243458287185\n",
      "epoch 43: MSE = 1.3831873106140034, lr = 146.50882971370612\n",
      "epoch 44: MSE = 1.3815589373869361, lr = 146.2158120542787\n",
      "epoch 45: MSE = 1.379990601150611, lr = 145.92338043017014\n",
      "epoch 46: MSE = 1.3784781510773907, lr = 145.6315336693098\n",
      "epoch 47: MSE = 1.3770191213217888, lr = 145.34027060197116\n",
      "epoch 48: MSE = 1.375610148685014, lr = 145.0495900607672\n",
      "epoch 49: MSE = 1.3742489698999474, lr = 144.75949088064567\n",
      "epoch 50: MSE = 1.372932808756837, lr = 144.46997189888438\n",
      "epoch 51: MSE = 1.371659606270117, lr = 144.1810319550866\n",
      "epoch 52: MSE = 1.370427031729644, lr = 143.89266989117644\n",
      "epoch 53: MSE = 1.369233224745901, lr = 143.6048845513941\n",
      "epoch 54: MSE = 1.3680761996783057, lr = 143.3176747822913\n",
      "epoch 55: MSE = 1.366954283627828, lr = 143.03103943272671\n",
      "epoch 56: MSE = 1.3658657638911622, lr = 142.74497735386126\n",
      "epoch 57: MSE = 1.3648091406023894, lr = 142.45948739915355\n",
      "epoch 58: MSE = 1.363782921347099, lr = 142.17456842435524\n",
      "epoch 59: MSE = 1.362785763270156, lr = 141.89021928750654\n",
      "epoch 60: MSE = 1.3618163550683562, lr = 141.60643884893153\n",
      "epoch 61: MSE = 1.36087349465192, lr = 141.32322597123368\n",
      "epoch 62: MSE = 1.359956022044793, lr = 141.0405795192912\n",
      "epoch 63: MSE = 1.3590628603434993, lr = 140.75849836025264\n",
      "epoch 64: MSE = 1.3581929777501984, lr = 140.47698136353213\n",
      "epoch 65: MSE = 1.3573454081464376, lr = 140.19602740080506\n",
      "epoch 66: MSE = 1.3565192295301551, lr = 139.91563534600346\n",
      "epoch 67: MSE = 1.355713573577789, lr = 139.63580407531146\n",
      "epoch 68: MSE = 1.3549276131954109, lr = 139.35653246716083\n",
      "epoch 69: MSE = 1.3541605663245826, lr = 139.0778194022265\n",
      "epoch 70: MSE = 1.35341168851348, lr = 138.79966376342205\n",
      "epoch 71: MSE = 1.352680273838867, lr = 138.5220644358952\n",
      "epoch 72: MSE = 1.3519656502388155, lr = 138.24502030702342\n",
      "epoch 73: MSE = 1.3512671790777702, lr = 137.96853026640937\n",
      "epoch 74: MSE = 1.3505842520141875, lr = 137.69259320587656\n",
      "epoch 75: MSE = 1.3499162899949995, lr = 137.41720801946482\n",
      "epoch 76: MSE = 1.3492627409993234, lr = 137.14237360342588\n",
      "epoch 77: MSE = 1.3486230788514217, lr = 136.86808885621903\n",
      "epoch 78: MSE = 1.3479968014881476, lr = 136.5943526785066\n",
      "epoch 79: MSE = 1.3473834297723828, lr = 136.3211639731496\n",
      "epoch 80: MSE = 1.346782506094568, lr = 136.0485216452033\n",
      "epoch 81: MSE = 1.3461935932639906, lr = 135.77642460191288\n",
      "epoch 82: MSE = 1.3456162733399872, lr = 135.50487175270905\n",
      "epoch 83: MSE = 1.3450501466276488, lr = 135.23386200920362\n",
      "epoch 84: MSE = 1.3444948306786484, lr = 134.96339428518522\n",
      "epoch 85: MSE = 1.3439499593945694, lr = 134.69346749661486\n",
      "epoch 86: MSE = 1.34341518216054, lr = 134.42408056162162\n",
      "epoch 87: MSE = 1.3428901630495336, lr = 134.1552324004984\n",
      "epoch 88: MSE = 1.3423745800644025, lr = 133.8869219356974\n",
      "epoch 89: MSE = 1.3418681244331063, lr = 133.619148091826\n",
      "epoch 90: MSE = 1.3413704999416414, lr = 133.35190979564234\n",
      "epoch 91: MSE = 1.3408814223096268, lr = 133.08520597605107\n",
      "epoch 92: MSE = 1.3404006186007535, lr = 132.81903556409898\n",
      "epoch 93: MSE = 1.3399278266688197, lr = 132.5533974929708\n",
      "epoch 94: MSE = 1.3394627946349815, lr = 132.28829069798485\n",
      "epoch 95: MSE = 1.3390052803953874, lr = 132.02371411658888\n",
      "epoch 96: MSE = 1.3385550511563953, lr = 131.7596666883557\n",
      "epoch 97: MSE = 1.3381118829960608, lr = 131.496147354979\n",
      "epoch 98: MSE = 1.3376755604498873, lr = 131.23315506026904\n",
      "epoch 99: MSE = 1.3372458761194692, lr = 130.9706887501485\n",
      "epoch 100: MSE = 1.3368226303024553, lr = 130.7087473726482\n",
      "epoch 101: MSE = 1.3364056306425571, lr = 130.4473298779029\n",
      "epoch 102: MSE = 1.3359946917983072, lr = 130.18643521814707\n",
      "epoch 103: MSE = 1.335589635129442, lr = 129.92606234771077\n",
      "epoch 104: MSE = 1.33519028839979, lr = 129.66621022301536\n",
      "epoch 105: MSE = 1.3347964854957066, lr = 129.4068778025693\n",
      "epoch 106: MSE = 1.334408066159074, lr = 129.14806404696418\n",
      "epoch 107: MSE = 1.3340248757340296, lr = 128.88976791887026\n",
      "epoch 108: MSE = 1.333646764926593, lr = 128.63198838303254\n",
      "epoch 109: MSE = 1.3332735895764372, lr = 128.37472440626647\n",
      "epoch 110: MSE = 1.3329052104401033, lr = 128.11797495745392\n",
      "epoch 111: MSE = 1.3325414929849893, lr = 127.86173900753901\n",
      "epoch 112: MSE = 1.3321823071935048, lr = 127.60601552952393\n",
      "epoch 113: MSE = 1.3318275273768019, lr = 127.35080349846488\n",
      "epoch 114: MSE = 1.3314770319975584, lr = 127.09610189146795\n",
      "epoch 115: MSE = 1.3311307035013018, lr = 126.84190968768502\n",
      "epoch 116: MSE = 1.330788428155791, lr = 126.58822586830965\n",
      "epoch 117: MSE = 1.330450095898028, lr = 126.33504941657303\n",
      "epoch 118: MSE = 1.3301156001884744, lr = 126.08237931773988\n",
      "epoch 119: MSE = 1.329784837872087, lr = 125.8302145591044\n",
      "epoch 120: MSE = 1.3294577090458, lr = 125.5785541299862\n",
      "epoch 121: MSE = 1.3291341169321198, lr = 125.32739702172623\n",
      "epoch 122: MSE = 1.3288139677585016, lr = 125.07674222768277\n",
      "epoch 123: MSE = 1.328497170642206, lr = 124.8265887432274\n",
      "epoch 124: MSE = 1.3281836374803566, lr = 124.57693556574095\n",
      "epoch 125: MSE = 1.3278732828449122, lr = 124.32778169460947\n",
      "epoch 126: MSE = 1.3275660238823335, lr = 124.07912613122025\n",
      "epoch 127: MSE = 1.3272617802176576, lr = 123.83096787895781\n",
      "epoch 128: MSE = 1.3269604738628165, lr = 123.58330594319989\n",
      "epoch 129: MSE = 1.326662029128924, lr = 123.33613933131349\n",
      "epoch 130: MSE = 1.3263663725423909, lr = 123.08946705265086\n",
      "epoch 131: MSE = 1.3260734327646304, lr = 122.84328811854556\n",
      "epoch 132: MSE = 1.3257831405152145, lr = 122.59760154230847\n",
      "epoch 133: MSE = 1.325495428498291, lr = 122.35240633922385\n",
      "epoch 134: MSE = 1.3252102313321068, lr = 122.1077015265454\n",
      "epoch 135: MSE = 1.3249274854814985, lr = 121.86348612349231\n",
      "epoch 136: MSE = 1.3246471291931932, lr = 121.61975915124532\n",
      "epoch 137: MSE = 1.3243691024337991, lr = 121.37651963294283\n",
      "epoch 138: MSE = 1.3240933468303475, lr = 121.13376659367694\n"
     ]
    },
    {
     "name": "stdout",
     "output_type": "stream",
     "text": [
      "epoch 139: MSE = 1.3238198056132817, lr = 120.89149906048958\n",
      "epoch 140: MSE = 1.3235484235617596, lr = 120.6497160623686\n",
      "epoch 141: MSE = 1.3232791469511822, lr = 120.40841663024386\n",
      "epoch 142: MSE = 1.3230119235028288, lr = 120.16759979698338\n",
      "epoch 143: MSE = 1.32274670233552, lr = 119.92726459738941\n",
      "epoch 144: MSE = 1.3224834339191984, lr = 119.68741006819464\n",
      "epoch 145: MSE = 1.322222070030357, lr = 119.44803524805825\n",
      "epoch 146: MSE = 1.3219625637092212, lr = 119.20913917756214\n",
      "epoch 147: MSE = 1.3217048692186089, lr = 118.97072089920701\n",
      "epoch 148: MSE = 1.321448942004403, lr = 118.7327794574086\n",
      "epoch 149: MSE = 1.3211947386575535, lr = 118.49531389849378\n",
      "epoch 150: MSE = 1.3209422168775442, lr = 118.25832327069679\n",
      "epoch 151: MSE = 1.3206913354372731, lr = 118.0218066241554\n",
      "epoch 152: MSE = 1.3204420541492685, lr = 117.78576301090709\n",
      "epoch 153: MSE = 1.320194333833193, lr = 117.55019148488527\n",
      "epoch 154: MSE = 1.319948136284581, lr = 117.3150911019155\n",
      "epoch 155: MSE = 1.3197034242447556, lr = 117.08046091971167\n",
      "epoch 156: MSE = 1.3194601613718682, lr = 116.84629999787225\n",
      "epoch 157: MSE = 1.3192183122130274, lr = 116.6126073978765\n",
      "epoch 158: MSE = 1.3189778421774654, lr = 116.37938218308075\n",
      "epoch 159: MSE = 1.318738717510692, lr = 116.14662341871458\n",
      "epoch 160: MSE = 1.3185009052696088, lr = 115.91433017187715\n",
      "epoch 161: MSE = 1.3182643732985315, lr = 115.6825015115334\n",
      "epoch 162: MSE = 1.3180290902060956, lr = 115.45113650851033\n",
      "epoch 163: MSE = 1.3177950253429986, lr = 115.22023423549331\n",
      "epoch 164: MSE = 1.317562148780549, lr = 114.98979376702232\n",
      "epoch 165: MSE = 1.3173304312900025, lr = 114.75981417948827\n",
      "epoch 166: MSE = 1.317099844322621, lr = 114.5302945511293\n",
      "epoch 167: MSE = 1.3168703599904692, lr = 114.30123396202704\n",
      "epoch 168: MSE = 1.3166419510478802, lr = 114.07263149410299\n",
      "epoch 169: MSE = 1.316414590873594, lr = 113.84448623111479\n",
      "epoch 170: MSE = 1.3161882534535216, lr = 113.61679725865255\n",
      "epoch 171: MSE = 1.3159629133641215, lr = 113.38956366413525\n",
      "epoch 172: MSE = 1.3157385457563615, lr = 113.16278453680698\n",
      "epoch 173: MSE = 1.3155151263402467, lr = 112.93645896773337\n",
      "epoch 174: MSE = 1.3152926313698852, lr = 112.71058604979791\n",
      "epoch 175: MSE = 1.3150710376290737, lr = 112.48516487769831\n",
      "epoch 176: MSE = 1.3148503224173937, lr = 112.26019454794292\n",
      "epoch 177: MSE = 1.3146304635367778, lr = 112.03567415884703\n",
      "epoch 178: MSE = 1.3144114392785498, lr = 111.81160281052934\n",
      "epoch 179: MSE = 1.314193228410905, lr = 111.58797960490828\n",
      "epoch 180: MSE = 1.3139758101668249, lr = 111.36480364569847\n",
      "epoch 181: MSE = 1.3137591642324074, lr = 111.14207403840707\n",
      "epoch 182: MSE = 1.3135432707355883, lr = 110.91978989033026\n",
      "epoch 183: MSE = 1.3133281102352568, lr = 110.6979503105496\n",
      "epoch 184: MSE = 1.3131136637107303, lr = 110.4765544099285\n",
      "epoch 185: MSE = 1.3128999125515985, lr = 110.25560130110864\n",
      "epoch 186: MSE = 1.3126868385478971, lr = 110.03509009850643\n",
      "epoch 187: MSE = 1.3124744238806223, lr = 109.81501991830942\n",
      "epoch 188: MSE = 1.312262651112563, lr = 109.5953898784728\n",
      "epoch 189: MSE = 1.3120515031794306, lr = 109.37619909871586\n",
      "epoch 190: MSE = 1.3118409633813048, lr = 109.15744670051842\n",
      "epoch 191: MSE = 1.3116310153743405, lr = 108.93913180711738\n",
      "epoch 192: MSE = 1.3114216431627705, lr = 108.72125354350314\n",
      "epoch 193: MSE = 1.3112128310911613, lr = 108.50381103641614\n",
      "epoch 194: MSE = 1.3110045638369314, lr = 108.28680341434331\n",
      "epoch 195: MSE = 1.310796826403113, lr = 108.07022980751462\n",
      "epoch 196: MSE = 1.3105896041113505, lr = 107.85408934789959\n",
      "epoch 197: MSE = 1.3103828825951331, lr = 107.63838116920378\n",
      "epoch 198: MSE = 1.3101766477932457, lr = 107.42310440686538\n",
      "epoch 199: MSE = 1.3099708859434314, lr = 107.20825819805165\n",
      "epoch 200: MSE = 1.3097655835762625, lr = 106.99384168165555\n",
      "epoch 201: MSE = 1.3095607275092116, lr = 106.77985399829224\n",
      "epoch 202: MSE = 1.309356304840907, lr = 106.56629429029566\n",
      "epoch 203: MSE = 1.3091523029455812, lr = 106.35316170171507\n",
      "epoch 204: MSE = 1.3089487094676917, lr = 106.14045537831164\n",
      "epoch 205: MSE = 1.3087455123167153, lr = 105.92817446755502\n",
      "epoch 206: MSE = 1.3085426996621083, lr = 105.71631811861991\n",
      "epoch 207: MSE = 1.3083402599284244, lr = 105.50488548238268\n",
      "epoch 208: MSE = 1.3081381817905884, lr = 105.29387571141791\n",
      "epoch 209: MSE = 1.3079364541693197, lr = 105.08328795999508\n",
      "epoch 210: MSE = 1.3077350662266907, lr = 104.87312138407509\n",
      "epoch 211: MSE = 1.3075340073618356, lr = 104.66337514130694\n",
      "epoch 212: MSE = 1.3073332672067806, lr = 104.45404839102433\n",
      "epoch 213: MSE = 1.30713283562241, lr = 104.24514029424228\n",
      "epoch 214: MSE = 1.3069327026945485, lr = 104.0366500136538\n",
      "epoch 215: MSE = 1.306732858730169, lr = 103.82857671362649\n",
      "epoch 216: MSE = 1.3065332942537133, lr = 103.62091956019924\n",
      "epoch 217: MSE = 1.306334000003516, lr = 103.41367772107884\n",
      "epoch 218: MSE = 1.3061349669283462, lr = 103.20685036563668\n",
      "epoch 219: MSE = 1.3059361861840406, lr = 103.00043666490541\n",
      "epoch 220: MSE = 1.3057376491302413, lr = 102.7944357915756\n",
      "epoch 221: MSE = 1.3055393473272283, lr = 102.58884691999245\n",
      "epoch 222: MSE = 1.305341272532835, lr = 102.38366922615246\n",
      "epoch 223: MSE = 1.3051434166994635, lr = 102.17890188770016\n",
      "epoch 224: MSE = 1.3049457719711732, lr = 101.97454408392477\n",
      "epoch 225: MSE = 1.3047483306808556, lr = 101.77059499575692\n",
      "epoch 226: MSE = 1.3045510853474838, lr = 101.56705380576541\n",
      "epoch 227: MSE = 1.304354028673441, lr = 101.36391969815388\n",
      "epoch 228: MSE = 1.3041571535419145, lr = 101.16119185875758\n",
      "epoch 229: MSE = 1.3039604530143636, lr = 100.95886947504006\n",
      "epoch 230: MSE = 1.3037639203280469, lr = 100.75695173608997\n",
      "epoch 231: MSE = 1.3035675488936236, lr = 100.5554378326178\n",
      "epoch 232: MSE = 1.3033713322928002, lr = 100.35432695695256\n",
      "epoch 233: MSE = 1.3031752642760472, lr = 100.15361830303866\n",
      "epoch 234: MSE = 1.3029793387603665, lr = 99.95331106643258\n",
      "epoch 235: MSE = 1.3027835498271116, lr = 99.7534044442997\n",
      "epoch 236: MSE = 1.3025878917198581, lr = 99.5538976354111\n",
      "epoch 237: MSE = 1.302392358842325, lr = 99.35478984014028\n",
      "epoch 238: MSE = 1.3021969457563372, lr = 99.15608026046\n",
      "epoch 239: MSE = 1.302001647179837, lr = 98.95776809993909\n",
      "epoch 240: MSE = 1.3018064579849353, lr = 98.75985256373922\n",
      "epoch 241: MSE = 1.3016113731960024, lr = 98.56233285861174\n",
      "epoch 242: MSE = 1.3014163879877962, lr = 98.36520819289451\n",
      "epoch 243: MSE = 1.3012214976836278, lr = 98.16847777650872\n",
      "epoch 244: MSE = 1.3010266977535623, lr = 97.9721408209557\n",
      "epoch 245: MSE = 1.3008319838126488, lr = 97.77619653931379\n",
      "epoch 246: MSE = 1.3006373516191818, lr = 97.58064414623516\n",
      "epoch 247: MSE = 1.3004427970729937, lr = 97.38548285794269\n",
      "epoch 248: MSE = 1.3002483162137768, lr = 97.1907118922268\n",
      "epoch 249: MSE = 1.3000539052194238, lr = 96.99633046844235\n"
     ]
    }
   ],
   "source": [
    "n_features = 15\n",
    "\n",
    "P = np.random.random((n_users,n_features))\n",
    "Q = np.random.random((n_items,n_features))\n",
    "\n",
    "lr = 160\n",
    "l2 = 0.000001\n",
    "\n",
    "#train loop\n",
    "for e in range(250):\n",
    "    P_tau = P[userIds,:]\n",
    "    Q_tau = Q[itemIds,:]\n",
    "    pred = np.sum(P_tau * Q_tau, axis = 1)#np.inner(P_tau, Q_tau)\n",
    "    R_hat = coo_matrix((pred, (userIds, itemIds)), shape=(n_users, n_items))\n",
    "    MSE = np.sum(np.square(ratings - pred))/ratings.shape[0] + l2 * (np.sum(np.square(Q)) + np.sum(np.square(P)))\n",
    "    P -= lr * ((R_hat - R) @ Q)/ratings.shape[0] + l2 * np.square(P)\n",
    "    Q -= lr * ((R_hat - R).T @ P)/ratings.shape[0] + l2 * np.square(Q)\n",
    "    lr *= 0.998\n",
    "    print(f\"epoch {e}: MSE = {MSE}, lr = {lr}\")"
   ]
  },
  {
   "cell_type": "code",
   "execution_count": 491,
   "metadata": {},
   "outputs": [
    {
     "name": "stdout",
     "output_type": "stream",
     "text": [
      "MSE on test dataset = 0.7666636992135833\n"
     ]
    }
   ],
   "source": [
    "ratings_test = test['rating'].values\n",
    "userIds_test = test['userId'].values\n",
    "itemIds_test = test['movieId'].values\n",
    "P_tau = P[userIds_test,:]\n",
    "Q_tau = Q[itemIds_test,:]\n",
    "pred = np.sum(P_tau * Q_tau, axis = 1)\n",
    "MSE_test_MF = np.sum(np.square(ratings_test - pred))/ratings_test.shape[0]\n"
   ]
  },
  {
   "cell_type": "markdown",
   "metadata": {},
   "source": [
    "Implement a Deep Learning based Collaborative Filtering model. (20 points)"
   ]
  },
  {
   "cell_type": "code",
   "execution_count": 349,
   "metadata": {},
   "outputs": [],
   "source": [
    "import torch.nn as nn\n",
    "import torch.nn.functional as F\n",
    "import torch.optim as optim\n",
    "import torch\n",
    "import pandas as pd\n",
    "\n",
    "device = torch.device('cuda:0' if torch.cuda.is_available() else 'cpu')\n",
    "\n",
    "batch_sz = 128"
   ]
  },
  {
   "cell_type": "code",
   "execution_count": 351,
   "metadata": {},
   "outputs": [],
   "source": [
    "n_samples = len(ratings)"
   ]
  },
  {
   "cell_type": "code",
   "execution_count": 353,
   "metadata": {},
   "outputs": [],
   "source": [
    "batches = []\n",
    "\n",
    "#Create batches\n",
    "for i in range(0, n_samples, batch_sz):\n",
    "    limit =  min(i + batch_sz, n_samples)\n",
    "    users_batch, movies_batch, rates_batch = userIds[i: limit], itemIds[i: limit], ratings[i: limit]\n",
    "    batches.append((torch.tensor(users_batch, dtype=torch.long), torch.tensor(movies_batch, dtype=torch.long),\n",
    "                  torch.tensor(rates_batch, dtype=torch.float)))"
   ]
  },
  {
   "cell_type": "code",
   "execution_count": 397,
   "metadata": {},
   "outputs": [],
   "source": [
    "class RecommenderNet(nn.Module):\n",
    "    def __init__(self, n_users, n_movies, n_factors=50, embedding_dropout=0.02, dropout_rate=0.2):\n",
    "        super().__init__()\n",
    "\n",
    "        self.u = nn.Embedding(n_users, n_factors)\n",
    "        self.m = nn.Embedding(n_movies, n_factors)\n",
    "        self.drop = nn.Dropout(embedding_dropout)\n",
    "        self.hidden = nn.Sequential(nn.Linear(2*n_factors, n_factors*4),\n",
    "                                nn.ReLU(),\n",
    "                                nn.Dropout(0.15),\n",
    "                                nn.Linear(n_factors*4, 2*n_factors),\n",
    "                                nn.ReLU())#,\n",
    "#                                 nn.Dropout(0.15),\n",
    "#                                 nn.Linear(150, n_factors*2),\n",
    "#                                 nn.ReLU(),\n",
    "#                                 nn.Dropout(0.15))\n",
    "        self.fc = nn.Linear(n_factors*2, 1)\n",
    "        self._init()\n",
    "\n",
    "    def forward(self, users, movies, minmax=[1,5]):\n",
    "        features = torch.cat([self.u(users), self.m(movies)], dim=1)\n",
    "        x = self.drop(features)\n",
    "        x = self.hidden(x)\n",
    "        out = torch.sigmoid(self.fc(x))\n",
    "\n",
    "        if minmax is not None: #Scale the output to [1,5]\n",
    "            min_rating, max_rating = minmax\n",
    "            out = (max_rating - min_rating)*out + min_rating\n",
    "        return out\n",
    "\n",
    "    def _init(self):\n",
    "        \"\"\"\n",
    "        Initialize embeddings and hidden layers weights with xavier.\n",
    "        \"\"\"\n",
    "        def init(m):\n",
    "            if type(m) == nn.Linear:\n",
    "                torch.nn.init.xavier_uniform_(m.weight)\n",
    "                m.bias.data.fill_(0.01)\n",
    "\n",
    "        self.u.weight.data.uniform_(-0.05, 0.05)\n",
    "        self.m.weight.data.uniform_(-0.05, 0.05)\n",
    "        self.hidden.apply(init)\n",
    "        init(self.fc)"
   ]
  },
  {
   "cell_type": "code",
   "execution_count": 401,
   "metadata": {},
   "outputs": [
    {
     "data": {
      "text/plain": [
       "RecommenderNet(\n",
       "  (u): Embedding(6744, 20)\n",
       "  (m): Embedding(118697, 20)\n",
       "  (drop): Dropout(p=0.02, inplace=False)\n",
       "  (hidden): Sequential(\n",
       "    (0): Linear(in_features=40, out_features=80, bias=True)\n",
       "    (1): ReLU()\n",
       "    (2): Dropout(p=0.15, inplace=False)\n",
       "    (3): Linear(in_features=80, out_features=40, bias=True)\n",
       "    (4): ReLU()\n",
       "  )\n",
       "  (fc): Linear(in_features=40, out_features=1, bias=True)\n",
       ")"
      ]
     },
     "execution_count": 401,
     "metadata": {},
     "output_type": "execute_result"
    }
   ],
   "source": [
    "net = RecommenderNet(n_factors = 20, n_users=n_users, n_movies=n_items).to(device)\n",
    "net"
   ]
  },
  {
   "cell_type": "code",
   "execution_count": 402,
   "metadata": {},
   "outputs": [],
   "source": [
    "criterion = nn.MSELoss(reduction='mean')\n",
    "optimizer = optim.Adam(net.parameters(), lr=1e-3)\n",
    "scheduler = optim.lr_scheduler.ReduceLROnPlateau(optimizer, 'min', factor=0.3, patience=2)"
   ]
  },
  {
   "cell_type": "code",
   "execution_count": 403,
   "metadata": {},
   "outputs": [
    {
     "name": "stdout",
     "output_type": "stream",
     "text": [
      "Loss at epoch 0 = 0.8992513418197632\n",
      "Loss at epoch 1 = 0.7728310823440552\n",
      "Loss at epoch 2 = 0.7299784421920776\n",
      "Loss at epoch 3 = 0.7046374678611755\n",
      "Loss at epoch 4 = 0.6911947131156921\n",
      "Loss at epoch 5 = 0.6751245856285095\n",
      "Loss at epoch 6 = 0.6543981432914734\n",
      "Loss at epoch 7 = 0.6439195275306702\n",
      "Loss at epoch 8 = 0.6360467076301575\n",
      "Loss at epoch 9 = 0.628823459148407\n",
      "Loss at epoch 10 = 0.6223900318145752\n",
      "Loss at epoch 11 = 0.6165963411331177\n",
      "Loss at epoch 12 = 0.6112933158874512\n",
      "Loss at epoch 13 = 0.6054704189300537\n",
      "Loss at epoch 14 = 0.6001187562942505\n",
      "Loss at epoch 15 = 0.5941504240036011\n",
      "Loss at epoch 16 = 0.5902841091156006\n",
      "Loss at epoch 17 = 0.5878979563713074\n",
      "Loss at epoch 18 = 0.5860994458198547\n",
      "Loss at epoch 19 = 0.5841062664985657\n"
     ]
    }
   ],
   "source": [
    "epochs = 20\n",
    "\n",
    "for epoch in range(epochs):\n",
    "    train_loss = 0\n",
    "    c = 0\n",
    "    for users_batch, movies_batch, rates_batch in batches:\n",
    "        net.zero_grad()\n",
    "        out = net(users_batch.to(device), movies_batch.to(device), [1, 5]).squeeze()\n",
    "        loss = criterion(rates_batch.to(device), out)\n",
    "\n",
    "        loss.backward()\n",
    "        optimizer.step()\n",
    "        train_loss += loss\n",
    "        \n",
    "        c += 1\n",
    "    scheduler.step(loss)\n",
    "    print(\"Loss at epoch {} = {}\".format(epoch, train_loss/c))\n",
    "#     print(\"Last Loss = {}\".format(loss.item()))"
   ]
  },
  {
   "cell_type": "code",
   "execution_count": 490,
   "metadata": {},
   "outputs": [
    {
     "name": "stdout",
     "output_type": "stream",
     "text": [
      "MSE on test dataset = 0.7211063910365202\n"
     ]
    }
   ],
   "source": [
    "ratings_test = test['rating'].values\n",
    "userIds_test = test['userId'].values\n",
    "itemIds_test = test['movieId'].values\n",
    "pred = net.forward(torch.tensor(userIds_test).to(device),torch.tensor(itemIds_test).to(device)).cpu().detach().numpy()\n",
    "pred = np.array([s[0] for s in pred])\n",
    "MSE_test_nn = np.sum(np.square(ratings_test - pred))/ratings_test.shape[0]\n"
   ]
  },
  {
   "cell_type": "markdown",
   "metadata": {},
   "source": [
    "Compare the Deep learning-based approach and basic Collaborative Filtering model. (10 points)"
   ]
  },
  {
   "cell_type": "code",
   "execution_count": 492,
   "metadata": {},
   "outputs": [
    {
     "name": "stdout",
     "output_type": "stream",
     "text": [
      "basic Collaborative Filtering model MSE on test dataset = 0.7666636992135833\n",
      "Deep learning model MSE on test dataset = 0.7211063910365202\n"
     ]
    }
   ],
   "source": [
    "print(f\"basic Collaborative Filtering model MSE on test dataset = {MSE_test_MF}\")\n",
    "print(f\"Deep learning model MSE on test dataset = {MSE_test_nn}\")"
   ]
  },
  {
   "cell_type": "markdown",
   "metadata": {},
   "source": [
    "4. Implement a method that is going to take a user id as an input and return a top 5 recommended movies for that given user. (5 points)"
   ]
  },
  {
   "cell_type": "code",
   "execution_count": 481,
   "metadata": {},
   "outputs": [],
   "source": [
    "def pred(user_id, method = 'MF'):\n",
    "    if method == 'MF':\n",
    "        p = P[user_id]\n",
    "        scores = np.inner(p, Q)\n",
    "    if method == 'NN':\n",
    "#         scores = []\n",
    "#         for mid in range(n_items):\n",
    "        scores = net.forward(torch.tensor([user_id for _ in range(n_items)]).to(device),torch.tensor(list(range(n_items))).to(device)).cpu().detach().numpy()\n",
    "        scores = np.array([s[0] for s in scores])\n",
    "    ids = np.argsort(-np.array(scores))\n",
    "    print(ids[:5])\n",
    "    print(scores[ids][:5])\n",
    "    return ids[:5]"
   ]
  },
  {
   "cell_type": "code",
   "execution_count": null,
   "metadata": {},
   "outputs": [],
   "source": []
  }
 ],
 "metadata": {
  "kernelspec": {
   "display_name": "Python 3",
   "language": "python",
   "name": "python3"
  },
  "language_info": {
   "codemirror_mode": {
    "name": "ipython",
    "version": 3
   },
   "file_extension": ".py",
   "mimetype": "text/x-python",
   "name": "python",
   "nbconvert_exporter": "python",
   "pygments_lexer": "ipython3",
   "version": "3.6.5"
  }
 },
 "nbformat": 4,
 "nbformat_minor": 4
}
